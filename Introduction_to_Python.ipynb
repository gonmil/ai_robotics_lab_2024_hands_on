{
  "nbformat": 4,
  "nbformat_minor": 0,
  "metadata": {
    "colab": {
      "provenance": [],
      "include_colab_link": true
    },
    "kernelspec": {
      "display_name": "Python 3",
      "language": "python",
      "name": "python3"
    },
    "accelerator": "GPU"
  },
  "cells": [
    {
      "cell_type": "markdown",
      "metadata": {
        "id": "view-in-github",
        "colab_type": "text"
      },
      "source": [
        "<a href=\"https://colab.research.google.com/github/naoya1110/ai_robotics_lab_2024_hands_on/blob/main/Introduction_to_Python.ipynb\" target=\"_parent\"><img src=\"https://colab.research.google.com/assets/colab-badge.svg\" alt=\"Open In Colab\"/></a>"
      ]
    },
    {
      "cell_type": "markdown",
      "metadata": {
        "id": "JNzFO1buk1T7"
      },
      "source": [
        "# Introduction to Python\n",
        "\n",
        "\n",
        "> Authors: Iwamoto Naoya and Alan Hsu\n",
        "\n"
      ]
    },
    {
      "cell_type": "markdown",
      "metadata": {
        "id": "53rwfh8EggaZ"
      },
      "source": [
        "The VM used for Colaboratory appears to have 13GB RAM and 2 vCPU when checking using psutil (so a n1-highmem-2 instance)\n",
        "\n",
        "2-core Xeon 2.2GHz\n",
        "13GB RAM\n",
        "33GB HDD\n",
        "** maximum lifetime of a VM is 12 hours. Idle VMs time out after 90m**"
      ]
    },
    {
      "cell_type": "code",
      "metadata": {
        "id": "CnA5G-rFfaGX",
        "outputId": "5caa6000-fa51-414e-d7f7-e9aa375f7cda",
        "colab": {
          "base_uri": "https://localhost:8080/"
        }
      },
      "source": [
        "from psutil import *\n",
        "print(f\"cpu count: {cpu_count()}\")\n",
        "print(f\"cpu stats: {cpu_stats()}\")\n",
        "!cat /proc/cpuinfo\n",
        "!df -h\n",
        "virtual_memory()"
      ],
      "execution_count": null,
      "outputs": [
        {
          "output_type": "stream",
          "name": "stdout",
          "text": [
            "cpu count: 2\n",
            "cpu stats: scpustats(ctx_switches=788269, interrupts=560412, soft_interrupts=447495, syscalls=0)\n",
            "processor\t: 0\n",
            "vendor_id\t: GenuineIntel\n",
            "cpu family\t: 6\n",
            "model\t\t: 79\n",
            "model name\t: Intel(R) Xeon(R) CPU @ 2.20GHz\n",
            "stepping\t: 0\n",
            "microcode\t: 0xffffffff\n",
            "cpu MHz\t\t: 2199.998\n",
            "cache size\t: 56320 KB\n",
            "physical id\t: 0\n",
            "siblings\t: 2\n",
            "core id\t\t: 0\n",
            "cpu cores\t: 1\n",
            "apicid\t\t: 0\n",
            "initial apicid\t: 0\n",
            "fpu\t\t: yes\n",
            "fpu_exception\t: yes\n",
            "cpuid level\t: 13\n",
            "wp\t\t: yes\n",
            "flags\t\t: fpu vme de pse tsc msr pae mce cx8 apic sep mtrr pge mca cmov pat pse36 clflush mmx fxsr sse sse2 ss ht syscall nx pdpe1gb rdtscp lm constant_tsc rep_good nopl xtopology nonstop_tsc cpuid tsc_known_freq pni pclmulqdq ssse3 fma cx16 pcid sse4_1 sse4_2 x2apic movbe popcnt aes xsave avx f16c rdrand hypervisor lahf_lm abm 3dnowprefetch invpcid_single ssbd ibrs ibpb stibp fsgsbase tsc_adjust bmi1 hle avx2 smep bmi2 erms invpcid rtm rdseed adx smap xsaveopt arat md_clear arch_capabilities\n",
            "bugs\t\t: cpu_meltdown spectre_v1 spectre_v2 spec_store_bypass l1tf mds swapgs taa mmio_stale_data retbleed\n",
            "bogomips\t: 4399.99\n",
            "clflush size\t: 64\n",
            "cache_alignment\t: 64\n",
            "address sizes\t: 46 bits physical, 48 bits virtual\n",
            "power management:\n",
            "\n",
            "processor\t: 1\n",
            "vendor_id\t: GenuineIntel\n",
            "cpu family\t: 6\n",
            "model\t\t: 79\n",
            "model name\t: Intel(R) Xeon(R) CPU @ 2.20GHz\n",
            "stepping\t: 0\n",
            "microcode\t: 0xffffffff\n",
            "cpu MHz\t\t: 2199.998\n",
            "cache size\t: 56320 KB\n",
            "physical id\t: 0\n",
            "siblings\t: 2\n",
            "core id\t\t: 0\n",
            "cpu cores\t: 1\n",
            "apicid\t\t: 1\n",
            "initial apicid\t: 1\n",
            "fpu\t\t: yes\n",
            "fpu_exception\t: yes\n",
            "cpuid level\t: 13\n",
            "wp\t\t: yes\n",
            "flags\t\t: fpu vme de pse tsc msr pae mce cx8 apic sep mtrr pge mca cmov pat pse36 clflush mmx fxsr sse sse2 ss ht syscall nx pdpe1gb rdtscp lm constant_tsc rep_good nopl xtopology nonstop_tsc cpuid tsc_known_freq pni pclmulqdq ssse3 fma cx16 pcid sse4_1 sse4_2 x2apic movbe popcnt aes xsave avx f16c rdrand hypervisor lahf_lm abm 3dnowprefetch invpcid_single ssbd ibrs ibpb stibp fsgsbase tsc_adjust bmi1 hle avx2 smep bmi2 erms invpcid rtm rdseed adx smap xsaveopt arat md_clear arch_capabilities\n",
            "bugs\t\t: cpu_meltdown spectre_v1 spectre_v2 spec_store_bypass l1tf mds swapgs taa mmio_stale_data retbleed\n",
            "bogomips\t: 4399.99\n",
            "clflush size\t: 64\n",
            "cache_alignment\t: 64\n",
            "address sizes\t: 46 bits physical, 48 bits virtual\n",
            "power management:\n",
            "\n",
            "Filesystem      Size  Used Avail Use% Mounted on\n",
            "overlay          79G   27G   52G  34% /\n",
            "tmpfs            64M     0   64M   0% /dev\n",
            "shm             5.7G     0  5.7G   0% /dev/shm\n",
            "/dev/root       2.0G  1.1G  849M  57% /usr/sbin/docker-init\n",
            "/dev/sda1        79G   64G   16G  81% /opt/bin/.nvidia\n",
            "tmpfs           6.4G   88K  6.4G   1% /var/colab\n",
            "tmpfs           6.4G     0  6.4G   0% /proc/acpi\n",
            "tmpfs           6.4G     0  6.4G   0% /proc/scsi\n",
            "tmpfs           6.4G     0  6.4G   0% /sys/firmware\n"
          ]
        },
        {
          "output_type": "execute_result",
          "data": {
            "text/plain": [
              "svmem(total=13609451520, available=12655136768, percent=7.0, used=663121920, free=10285682688, active=795049984, inactive=2269110272, buffers=71618560, cached=2589028352, shared=1404928, slab=126341120)"
            ]
          },
          "metadata": {},
          "execution_count": 2
        }
      ]
    },
    {
      "cell_type": "code",
      "metadata": {
        "id": "i0QxvuPnbP4n",
        "colab": {
          "base_uri": "https://localhost:8080/"
        },
        "outputId": "18be7a9b-83b8-425e-9728-44a0dc19eaa7"
      },
      "source": [
        "!nvidia-smi"
      ],
      "execution_count": null,
      "outputs": [
        {
          "output_type": "stream",
          "name": "stdout",
          "text": [
            "Wed Mar  6 06:17:35 2024       \n",
            "+---------------------------------------------------------------------------------------+\n",
            "| NVIDIA-SMI 535.104.05             Driver Version: 535.104.05   CUDA Version: 12.2     |\n",
            "|-----------------------------------------+----------------------+----------------------+\n",
            "| GPU  Name                 Persistence-M | Bus-Id        Disp.A | Volatile Uncorr. ECC |\n",
            "| Fan  Temp   Perf          Pwr:Usage/Cap |         Memory-Usage | GPU-Util  Compute M. |\n",
            "|                                         |                      |               MIG M. |\n",
            "|=========================================+======================+======================|\n",
            "|   0  Tesla T4                       Off | 00000000:00:04.0 Off |                    0 |\n",
            "| N/A   41C    P8              10W /  70W |      0MiB / 15360MiB |      0%      Default |\n",
            "|                                         |                      |                  N/A |\n",
            "+-----------------------------------------+----------------------+----------------------+\n",
            "                                                                                         \n",
            "+---------------------------------------------------------------------------------------+\n",
            "| Processes:                                                                            |\n",
            "|  GPU   GI   CI        PID   Type   Process name                            GPU Memory |\n",
            "|        ID   ID                                                             Usage      |\n",
            "|=======================================================================================|\n",
            "|  No running processes found                                                           |\n",
            "+---------------------------------------------------------------------------------------+\n"
          ]
        }
      ]
    },
    {
      "cell_type": "markdown",
      "metadata": {
        "id": "NpilGf1fJSqe"
      },
      "source": [
        "## Beginning\n",
        "Google Colaboratory (aka Google Colab) allows Python programming,especially you can learn deep learning with many online materials. First, you should be used to the programming style in Google Colab."
      ]
    },
    {
      "cell_type": "markdown",
      "metadata": {
        "id": "SR028J03NNup"
      },
      "source": [
        "## Setup for Google Colab\n",
        "Do some modifications for yout setting\n",
        "\n",
        "*   Show line number\n",
        "*   Indentation width in spaces 4\n",
        "*   Show Indentation guides\n",
        "\n",
        "\n"
      ]
    },
    {
      "cell_type": "markdown",
      "metadata": {
        "id": "4MJE2J2Jk1T8"
      },
      "source": [
        "## \"Hello, world!!\" always be the first string\n",
        "press（ shift + enter) to run your cell and print the text you want in Python\n",
        "\n",
        "```print(\"your favortite color\")```"
      ]
    },
    {
      "cell_type": "code",
      "metadata": {
        "id": "Y7GG6HGGk1T9",
        "colab": {
          "base_uri": "https://localhost:8080/"
        },
        "outputId": "40bf5e43-72ad-4afe-9ae8-c015d0a8dbb2"
      },
      "source": [
        "print(\"Hello, world!!\")\n",
        "print('I like blue color')"
      ],
      "execution_count": null,
      "outputs": [
        {
          "output_type": "stream",
          "name": "stdout",
          "text": [
            "Hello, world!!\n",
            "I like blue color\n"
          ]
        }
      ]
    },
    {
      "cell_type": "code",
      "metadata": {
        "id": "ykjJdBMVqtjK",
        "colab": {
          "base_uri": "https://localhost:8080/"
        },
        "outputId": "c5f22841-e89b-455d-9561-4c5a7ae68841"
      },
      "source": [
        "# Examples of valid strings\n",
        "print(\"I'm coding!\")\n",
        "print('The computer printed the string \"Hello!\"')\n",
        "\n",
        "# Example of invalid string\n",
        "print(\"A common phrase in programming is 'Hello world'\")"
      ],
      "execution_count": null,
      "outputs": [
        {
          "output_type": "stream",
          "name": "stdout",
          "text": [
            "I'm coding!\n",
            "The computer printed the string \"Hello!\"\n",
            "A common phrase in programming is 'Hello world'\n"
          ]
        }
      ]
    },
    {
      "cell_type": "markdown",
      "metadata": {
        "id": "b_wMDwy5Mw0q"
      },
      "source": [
        "Comment in Python is ```#```\n",
        "Using # in the begining which show this is a comment line, and the interpreter will ignore it"
      ]
    },
    {
      "cell_type": "markdown",
      "metadata": {
        "id": "PeJVM_t3pACm"
      },
      "source": [
        "There are other setting options in the right top conner of cell\n"
      ]
    },
    {
      "cell_type": "code",
      "metadata": {
        "id": "JwuZi2ymk1UJ",
        "colab": {
          "base_uri": "https://localhost:8080/"
        },
        "outputId": "61319a84-de49-4802-d38a-3e2b4e63af7f"
      },
      "source": [
        "# This is a comment line\n",
        "print(\"Hello, world!!\") #test"
      ],
      "execution_count": null,
      "outputs": [
        {
          "output_type": "stream",
          "name": "stdout",
          "text": [
            "Hello, world!!\n"
          ]
        }
      ]
    },
    {
      "cell_type": "markdown",
      "metadata": {
        "id": "LXxSXRodk1UB"
      },
      "source": [
        "## Show your string"
      ]
    },
    {
      "cell_type": "markdown",
      "metadata": {
        "id": "mwbPFJ5sJ1Cy"
      },
      "source": [
        "```firstname```, ```lastname``` are your self-defined variables\n",
        "\n",
        "Different from text you assigned in \"Hello, world!\"), you have to define the variables first"
      ]
    },
    {
      "cell_type": "code",
      "metadata": {
        "id": "KaCPxKLvk1UC",
        "colab": {
          "base_uri": "https://localhost:8080/"
        },
        "outputId": "0d1db3de-4e17-485f-b224-957166bc7026"
      },
      "source": [
        "firstname = \"Alan\"\n",
        "lastname = \"Hsu\"\n",
        "\n",
        "print(\"My name is\", firstname, lastname, \".\")"
      ],
      "execution_count": null,
      "outputs": [
        {
          "output_type": "stream",
          "name": "stdout",
          "text": [
            "My name is Alan Hsu .\n"
          ]
        }
      ]
    },
    {
      "cell_type": "code",
      "metadata": {
        "id": "1CKS7tt-iZqb",
        "colab": {
          "base_uri": "https://localhost:8080/"
        },
        "outputId": "a4e4d331-33b5-47b5-b0e5-220fd7b48ef0"
      },
      "source": [
        "type(lastname)"
      ],
      "execution_count": null,
      "outputs": [
        {
          "output_type": "execute_result",
          "data": {
            "text/plain": [
              "str"
            ]
          },
          "metadata": {},
          "execution_count": 7
        }
      ]
    },
    {
      "cell_type": "markdown",
      "metadata": {
        "id": "rnLtM3J9KWYu"
      },
      "source": [
        "A combined methid of string and variable in Python is（f-strings）. For example, you first define `firstname`, `lastname` and then you can combine the varibles with any string."
      ]
    },
    {
      "cell_type": "code",
      "metadata": {
        "id": "pFMnSLUAffTa",
        "colab": {
          "base_uri": "https://localhost:8080/"
        },
        "outputId": "8bc1fbb8-b02d-4c75-89cd-f5d38be3dc78"
      },
      "source": [
        "#f-strings example\n",
        "text = f\"{firstname} {lastname} is hungry\"\n",
        "print(text)\n",
        "\n",
        "print(\"without f-strings\")\n",
        "text = \"{firstname} {lastname} is hungry\"\n",
        "print(text)"
      ],
      "execution_count": null,
      "outputs": [
        {
          "output_type": "stream",
          "name": "stdout",
          "text": [
            "Alan Hsu is hungry\n",
            "without f-strings\n",
            "{firstname} {lastname} is hungry\n"
          ]
        }
      ]
    },
    {
      "cell_type": "markdown",
      "metadata": {
        "id": "pYmdb9Y8MnWa"
      },
      "source": [
        "Try different language\n",
        "\n"
      ]
    },
    {
      "cell_type": "code",
      "metadata": {
        "id": "em0rb5rGk1UH",
        "colab": {
          "base_uri": "https://localhost:8080/"
        },
        "outputId": "e89115a5-dd2b-4d6f-827d-c14179597640"
      },
      "source": [
        "myouji = \"大谷\"\n",
        "namae = \"翔平\"\n",
        "\n",
        "print(\"投手\", myouji, namae, \"上場\")\n",
        "print(f\"打者 {myouji} {namae} 上場\")"
      ],
      "execution_count": null,
      "outputs": [
        {
          "output_type": "stream",
          "name": "stdout",
          "text": [
            "投手 大谷 翔平 上場\n",
            "打者 大谷 翔平 上場\n"
          ]
        }
      ]
    },
    {
      "cell_type": "markdown",
      "metadata": {
        "id": "kd66KGL5LBzA"
      },
      "source": [
        "f-strings can be used for representing digits as you want"
      ]
    },
    {
      "cell_type": "code",
      "metadata": {
        "id": "TDKrnUlCk1UE",
        "colab": {
          "base_uri": "https://localhost:8080/"
        },
        "outputId": "2bc87ef3-469b-49ff-d4c7-17512044d478"
      },
      "source": [
        "pi = 3.141592\n",
        "\n",
        "print(f\"pi={pi:.0f}\")     # zero decimal places\n",
        "print(f\"pi={pi:.2f}\")     # two decimal places\n",
        "print(f\"pi={pi:.4f}\")     # four decimal places"
      ],
      "execution_count": null,
      "outputs": [
        {
          "output_type": "stream",
          "name": "stdout",
          "text": [
            "pi=3\n",
            "pi=3.14\n",
            "pi=3.1416\n"
          ]
        }
      ]
    },
    {
      "cell_type": "code",
      "metadata": {
        "id": "WiYJMDjzKm6i",
        "colab": {
          "base_uri": "https://localhost:8080/"
        },
        "outputId": "30a39869-695d-4cb0-d138-9d4a633fafef"
      },
      "source": [
        "x = 123456789\n",
        "\n",
        "# present in exponetial form\n",
        "print(f\"x={x:.1e}\")\n",
        "print(f\"x={x:.3e}\")\n",
        "print(f\"x={x:.5e}\")"
      ],
      "execution_count": null,
      "outputs": [
        {
          "output_type": "stream",
          "name": "stdout",
          "text": [
            "x=1.2e+08\n",
            "x=1.235e+08\n",
            "x=1.23457e+08\n"
          ]
        }
      ]
    },
    {
      "cell_type": "code",
      "metadata": {
        "id": "bDtBx8TuKNnQ",
        "colab": {
          "base_uri": "https://localhost:8080/"
        },
        "outputId": "4f6634e1-a693-41ad-eeda-fabdfc7d3140"
      },
      "source": [
        "x = 0.3124\n",
        "\n",
        "# present in percentage\n",
        "print(f\"raining possibility={x:.0%}\")\n",
        "print(f\"raining possibility={x:.1%}\")\n",
        "print(f\"raining possibility={x:.2%}\")"
      ],
      "execution_count": null,
      "outputs": [
        {
          "output_type": "stream",
          "name": "stdout",
          "text": [
            "raining possibility=31%\n",
            "raining possibility=31.2%\n",
            "raining possibility=31.24%\n"
          ]
        }
      ]
    },
    {
      "cell_type": "markdown",
      "metadata": {
        "id": "1T0LdaVtk1UL"
      },
      "source": [
        "## Do some easy calculations\n",
        "Arithmetic operators\n"
      ]
    },
    {
      "cell_type": "code",
      "metadata": {
        "id": "niwR0qTlk1UM",
        "colab": {
          "base_uri": "https://localhost:8080/"
        },
        "outputId": "a7a7dde2-87e4-4d2c-a0b5-6ed52964b063"
      },
      "source": [
        "a = 5\n",
        "b = 2\n",
        "print(\"a =\", a)\n",
        "print(\"b =\", b)"
      ],
      "execution_count": null,
      "outputs": [
        {
          "output_type": "stream",
          "name": "stdout",
          "text": [
            "a = 5\n",
            "b = 2\n"
          ]
        }
      ]
    },
    {
      "cell_type": "markdown",
      "metadata": {
        "id": "dyZ5TXWCk1UO"
      },
      "source": [
        "addition with \"+\""
      ]
    },
    {
      "cell_type": "code",
      "metadata": {
        "id": "3Ti7QCJak1UP",
        "colab": {
          "base_uri": "https://localhost:8080/"
        },
        "outputId": "34059ff3-86e8-4413-b7a4-73a4fcb01564"
      },
      "source": [
        "a+b\n",
        "print(a+b+3)\n",
        "print(a+b)"
      ],
      "execution_count": null,
      "outputs": [
        {
          "output_type": "stream",
          "name": "stdout",
          "text": [
            "10\n",
            "7\n"
          ]
        }
      ]
    },
    {
      "cell_type": "markdown",
      "metadata": {
        "id": "g4PfQYKRk1US"
      },
      "source": [
        "subtraction with \"-\""
      ]
    },
    {
      "cell_type": "code",
      "metadata": {
        "id": "lQaUOQeRk1US",
        "colab": {
          "base_uri": "https://localhost:8080/"
        },
        "outputId": "2eb4bb8f-56f4-4e3f-fbd1-7274a99d6a63"
      },
      "source": [
        "a-b"
      ],
      "execution_count": null,
      "outputs": [
        {
          "output_type": "execute_result",
          "data": {
            "text/plain": [
              "3"
            ]
          },
          "metadata": {},
          "execution_count": 17
        }
      ]
    },
    {
      "cell_type": "markdown",
      "metadata": {
        "id": "1PiUN096k1UV"
      },
      "source": [
        "militplication with \"*\""
      ]
    },
    {
      "cell_type": "code",
      "metadata": {
        "id": "m0w-0cgzk1UV",
        "colab": {
          "base_uri": "https://localhost:8080/"
        },
        "outputId": "e496ee8d-a3c4-4220-9af9-5d683bb4b6cb"
      },
      "source": [
        "a*b"
      ],
      "execution_count": null,
      "outputs": [
        {
          "output_type": "execute_result",
          "data": {
            "text/plain": [
              "10"
            ]
          },
          "metadata": {},
          "execution_count": 18
        }
      ]
    },
    {
      "cell_type": "markdown",
      "metadata": {
        "id": "h0h1Vf0pk1UY"
      },
      "source": [
        "division with \"/\""
      ]
    },
    {
      "cell_type": "code",
      "metadata": {
        "id": "kM12v54Ak1UY",
        "colab": {
          "base_uri": "https://localhost:8080/"
        },
        "outputId": "ba51979c-b86f-498e-ea48-86983b942f6d"
      },
      "source": [
        "a/b"
      ],
      "execution_count": null,
      "outputs": [
        {
          "output_type": "execute_result",
          "data": {
            "text/plain": [
              "2.5"
            ]
          },
          "metadata": {},
          "execution_count": 19
        }
      ]
    },
    {
      "cell_type": "markdown",
      "metadata": {
        "id": "RmsJ7Obdk1Ub"
      },
      "source": [
        "Floor division with \"//\""
      ]
    },
    {
      "cell_type": "code",
      "metadata": {
        "id": "tCnI7A2Bk1Ub",
        "colab": {
          "base_uri": "https://localhost:8080/"
        },
        "outputId": "2934dddc-c9e2-45d9-a17d-931f1a109f3a"
      },
      "source": [
        "a//b"
      ],
      "execution_count": null,
      "outputs": [
        {
          "output_type": "execute_result",
          "data": {
            "text/plain": [
              "2"
            ]
          },
          "metadata": {},
          "execution_count": 20
        }
      ]
    },
    {
      "cell_type": "markdown",
      "metadata": {
        "id": "pZFdlXOJk1Ue"
      },
      "source": [
        "Modulus with \"%\"\n"
      ]
    },
    {
      "cell_type": "code",
      "metadata": {
        "id": "T1q-1R3gk1Uf",
        "colab": {
          "base_uri": "https://localhost:8080/"
        },
        "outputId": "795cbfcd-53fb-43aa-e17b-b2b0f2f0133a"
      },
      "source": [
        "a%b"
      ],
      "execution_count": null,
      "outputs": [
        {
          "output_type": "execute_result",
          "data": {
            "text/plain": [
              "1"
            ]
          },
          "metadata": {},
          "execution_count": 21
        }
      ]
    },
    {
      "cell_type": "markdown",
      "metadata": {
        "id": "y12KE9hsk1Ui"
      },
      "source": [
        "Exponentiation with \"**\""
      ]
    },
    {
      "cell_type": "code",
      "metadata": {
        "id": "6Nvqxy32k1Uj",
        "colab": {
          "base_uri": "https://localhost:8080/"
        },
        "outputId": "7f7a0d28-11e0-42f7-ca4a-d69c52b82f81"
      },
      "source": [
        "a**b\n",
        "print(a**b)\n",
        "print(b**a)"
      ],
      "execution_count": null,
      "outputs": [
        {
          "output_type": "stream",
          "name": "stdout",
          "text": [
            "25\n",
            "32\n"
          ]
        }
      ]
    },
    {
      "cell_type": "markdown",
      "metadata": {
        "id": "iU-IG-nlk1Um"
      },
      "source": [
        "## logical computation\n",
        "Boolean"
      ]
    },
    {
      "cell_type": "code",
      "metadata": {
        "id": "GtF9drZ7k1Un",
        "colab": {
          "base_uri": "https://localhost:8080/"
        },
        "outputId": "81dd0be7-c42c-4b99-edf6-fb9d7c6507d6"
      },
      "source": [
        "a = True\n",
        "b = False\n",
        "\n",
        "print(\"a=\", a)\n",
        "print(\"b=\", b)"
      ],
      "execution_count": null,
      "outputs": [
        {
          "output_type": "stream",
          "name": "stdout",
          "text": [
            "a= True\n",
            "b= False\n"
          ]
        }
      ]
    },
    {
      "cell_type": "markdown",
      "metadata": {
        "id": "UL2rgEJyk1Up"
      },
      "source": [
        "OR operation"
      ]
    },
    {
      "cell_type": "code",
      "metadata": {
        "id": "jiSunTe4k1Uq",
        "colab": {
          "base_uri": "https://localhost:8080/"
        },
        "outputId": "e2fbcf78-96e3-4569-d177-e8852212b81e"
      },
      "source": [
        "a or b"
      ],
      "execution_count": null,
      "outputs": [
        {
          "output_type": "execute_result",
          "data": {
            "text/plain": [
              "True"
            ]
          },
          "metadata": {},
          "execution_count": 24
        }
      ]
    },
    {
      "cell_type": "markdown",
      "metadata": {
        "id": "kwXbadark1Us"
      },
      "source": [
        "AND operation"
      ]
    },
    {
      "cell_type": "code",
      "metadata": {
        "id": "9gx_gN1Jk1Ut",
        "colab": {
          "base_uri": "https://localhost:8080/"
        },
        "outputId": "9b20c7fb-eeb9-4eca-c7e1-a47b8c7a7138"
      },
      "source": [
        "a and b"
      ],
      "execution_count": null,
      "outputs": [
        {
          "output_type": "execute_result",
          "data": {
            "text/plain": [
              "False"
            ]
          },
          "metadata": {},
          "execution_count": 25
        }
      ]
    },
    {
      "cell_type": "markdown",
      "metadata": {
        "id": "xfi2I0pTk1Uw"
      },
      "source": [
        "NOT operation"
      ]
    },
    {
      "cell_type": "code",
      "metadata": {
        "id": "1P435QWIk1Uw",
        "colab": {
          "base_uri": "https://localhost:8080/"
        },
        "outputId": "d746f2d6-1d22-459b-f114-8dff3a3b4ac9"
      },
      "source": [
        "not a"
      ],
      "execution_count": null,
      "outputs": [
        {
          "output_type": "execute_result",
          "data": {
            "text/plain": [
              "False"
            ]
          },
          "metadata": {},
          "execution_count": 26
        }
      ]
    },
    {
      "cell_type": "markdown",
      "metadata": {
        "id": "OTVgQ3PoOptS"
      },
      "source": [
        "![011.gif](data:image/gif;base64,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)"
      ]
    },
    {
      "cell_type": "code",
      "metadata": {
        "id": "sq1DrtqxOnGO",
        "colab": {
          "base_uri": "https://localhost:8080/"
        },
        "outputId": "901f295f-199c-40f7-96d2-3bf3fcaf31dd"
      },
      "source": [
        "def NOR(a, b):\n",
        "    x = not (a or b)\n",
        "    return x\n",
        "\n",
        "NOR(a, b)"
      ],
      "execution_count": null,
      "outputs": [
        {
          "output_type": "execute_result",
          "data": {
            "text/plain": [
              "False"
            ]
          },
          "metadata": {},
          "execution_count": 27
        }
      ]
    },
    {
      "cell_type": "markdown",
      "metadata": {
        "id": "Kb7RoeZiOGjB"
      },
      "source": [
        "## Comparison operators in Google Colab"
      ]
    },
    {
      "cell_type": "markdown",
      "metadata": {
        "id": "Xg7huL7XQE0S"
      },
      "source": [
        "equal with `==`"
      ]
    },
    {
      "cell_type": "code",
      "metadata": {
        "id": "rd4_23gRPDAp",
        "colab": {
          "base_uri": "https://localhost:8080/"
        },
        "outputId": "232fd21b-82de-47c1-f777-af25ee6d9b4c"
      },
      "source": [
        "a = 2\n",
        "b = 3\n",
        "\n",
        "a == b"
      ],
      "execution_count": null,
      "outputs": [
        {
          "output_type": "execute_result",
          "data": {
            "text/plain": [
              "False"
            ]
          },
          "metadata": {},
          "execution_count": 28
        }
      ]
    },
    {
      "cell_type": "markdown",
      "metadata": {
        "id": "QgbAn3HhOUAY"
      },
      "source": [
        "greater than with `>`。"
      ]
    },
    {
      "cell_type": "code",
      "metadata": {
        "id": "0xJUIJNjODny",
        "colab": {
          "base_uri": "https://localhost:8080/"
        },
        "outputId": "821b0432-1c9f-4187-f8e5-084ff051f288"
      },
      "source": [
        "a > b"
      ],
      "execution_count": null,
      "outputs": [
        {
          "output_type": "execute_result",
          "data": {
            "text/plain": [
              "False"
            ]
          },
          "metadata": {},
          "execution_count": 29
        }
      ]
    },
    {
      "cell_type": "markdown",
      "metadata": {
        "id": "Q_2jRqcWOXCQ"
      },
      "source": [
        "less than with `<`。"
      ]
    },
    {
      "cell_type": "code",
      "metadata": {
        "id": "9lw4efqPOpdQ",
        "colab": {
          "base_uri": "https://localhost:8080/"
        },
        "outputId": "4f0ff364-e4cb-458a-b787-d54f387fe7b6"
      },
      "source": [
        "a < b"
      ],
      "execution_count": null,
      "outputs": [
        {
          "output_type": "execute_result",
          "data": {
            "text/plain": [
              "True"
            ]
          },
          "metadata": {},
          "execution_count": 30
        }
      ]
    },
    {
      "cell_type": "markdown",
      "metadata": {
        "id": "eF8Ohn_6Pdkb"
      },
      "source": [
        "Greater than or equal to `>=`"
      ]
    },
    {
      "cell_type": "code",
      "metadata": {
        "id": "YSK4CAlHOpXo",
        "colab": {
          "base_uri": "https://localhost:8080/"
        },
        "outputId": "03df5ced-e832-4fe9-c307-b0ca56858175"
      },
      "source": [
        "3 >= b"
      ],
      "execution_count": null,
      "outputs": [
        {
          "output_type": "execute_result",
          "data": {
            "text/plain": [
              "True"
            ]
          },
          "metadata": {},
          "execution_count": 31
        }
      ]
    },
    {
      "cell_type": "markdown",
      "metadata": {
        "id": "p50VbpmWPOhf"
      },
      "source": [
        "less than or equal to`<=`。"
      ]
    },
    {
      "cell_type": "code",
      "metadata": {
        "id": "iQZPg-jPQBR5",
        "colab": {
          "base_uri": "https://localhost:8080/"
        },
        "outputId": "0e0acd63-5fce-4628-d3fa-c2694e84c3c6"
      },
      "source": [
        "a <= b"
      ],
      "execution_count": null,
      "outputs": [
        {
          "output_type": "execute_result",
          "data": {
            "text/plain": [
              "True"
            ]
          },
          "metadata": {},
          "execution_count": 32
        }
      ]
    },
    {
      "cell_type": "markdown",
      "metadata": {
        "id": "eRq51NTqk1Uy"
      },
      "source": [
        "## for loop example"
      ]
    },
    {
      "cell_type": "markdown",
      "metadata": {
        "id": "9Cr8lSEWk1Uz"
      },
      "source": [
        "for loop in C as follow:\n",
        "```\n",
        "for (int i=0; i<5; i++){\n",
        "    printf(i);\n",
        "}\n",
        "```\n",
        "We can use range(strart,end,increment) in Python"
      ]
    },
    {
      "cell_type": "code",
      "metadata": {
        "id": "-QZWV2luk1U0",
        "colab": {
          "base_uri": "https://localhost:8080/"
        },
        "outputId": "b18cce08-87fd-49ac-fddf-dfff9f778933"
      },
      "source": [
        "for i in range(5):\n",
        "    print(i)"
      ],
      "execution_count": null,
      "outputs": [
        {
          "output_type": "stream",
          "name": "stdout",
          "text": [
            "0\n",
            "1\n",
            "2\n",
            "3\n",
            "4\n"
          ]
        }
      ]
    },
    {
      "cell_type": "markdown",
      "metadata": {
        "id": "paxT1kq6k1U3"
      },
      "source": [
        "## Example of List"
      ]
    },
    {
      "cell_type": "code",
      "metadata": {
        "id": "UoIofdekk1U4",
        "colab": {
          "base_uri": "https://localhost:8080/"
        },
        "outputId": "47f841c0-116d-4e95-d517-936419b38a0c"
      },
      "source": [
        "fruit_list = [\"apple\", \"banana\", \"citrus\"]\n",
        "\n",
        "for fruit in fruit_list:\n",
        "    print(fruit)"
      ],
      "execution_count": null,
      "outputs": [
        {
          "output_type": "stream",
          "name": "stdout",
          "text": [
            "apple\n",
            "banana\n",
            "citrus\n"
          ]
        }
      ]
    },
    {
      "cell_type": "markdown",
      "metadata": {
        "id": "PHdruFxBk1U7"
      },
      "source": [
        "## Showing index with list"
      ]
    },
    {
      "cell_type": "code",
      "metadata": {
        "id": "acDP-MWbk1U7",
        "colab": {
          "base_uri": "https://localhost:8080/"
        },
        "outputId": "6c98ceaa-9dde-4d23-bd2e-763c115a7ec8"
      },
      "source": [
        "for i, fruit in enumerate(fruit_list):\n",
        "    print(i, fruit)"
      ],
      "execution_count": null,
      "outputs": [
        {
          "output_type": "stream",
          "name": "stdout",
          "text": [
            "0 apple\n",
            "1 banana\n",
            "2 citrus\n"
          ]
        }
      ]
    },
    {
      "cell_type": "markdown",
      "metadata": {
        "id": "mTw7-PSdk1U-"
      },
      "source": [
        "## Example of while loop"
      ]
    },
    {
      "cell_type": "markdown",
      "metadata": {
        "id": "RnPLoP9dVllB"
      },
      "source": [
        "We need an initail number and condition for exiting the while loop"
      ]
    },
    {
      "cell_type": "code",
      "metadata": {
        "id": "IIyTYNVbk1U-",
        "colab": {
          "base_uri": "https://localhost:8080/"
        },
        "outputId": "a9ead7a9-0f86-4aef-998a-2f617f25c354"
      },
      "source": [
        "i = 0\n",
        "\n",
        "while i < 5:\n",
        "    print(i)\n",
        "    #i = i + 1\n",
        "    i+=1"
      ],
      "execution_count": null,
      "outputs": [
        {
          "output_type": "stream",
          "name": "stdout",
          "text": [
            "0\n",
            "1\n",
            "2\n",
            "3\n",
            "4\n"
          ]
        }
      ]
    },
    {
      "cell_type": "markdown",
      "metadata": {
        "id": "2OcTD58dk1VD"
      },
      "source": [
        "## Example of IF-else\n",
        "Determine n is odd or even"
      ]
    },
    {
      "cell_type": "code",
      "metadata": {
        "id": "gCNR7avCk1VD",
        "colab": {
          "base_uri": "https://localhost:8080/"
        },
        "outputId": "3f5686d0-9770-4b63-815d-a54b1ae7f9ff"
      },
      "source": [
        "n = 6\n",
        "\n",
        "if n%2 == 0:  # n modulus 2 is 0 means that n is even\n",
        "    print(n, \"is even\")\n",
        "else:  # odd for the other case\n",
        "    print(n, \"is odd\")"
      ],
      "execution_count": null,
      "outputs": [
        {
          "output_type": "stream",
          "name": "stdout",
          "text": [
            "6 is even\n"
          ]
        }
      ]
    },
    {
      "cell_type": "markdown",
      "metadata": {
        "id": "gyUHR0nUQQ1U"
      },
      "source": [
        "Determine n is integer or not"
      ]
    },
    {
      "cell_type": "code",
      "metadata": {
        "id": "XjAQMd2ek1VF",
        "colab": {
          "base_uri": "https://localhost:8080/"
        },
        "outputId": "136048ed-cffc-45ec-ce39-e8eda502cfea"
      },
      "source": [
        "n = 5.2\n",
        "\n",
        "if n%2 == 0:\n",
        "    print(n, \"is even\")\n",
        "elif n%2 == 1:\n",
        "    print(n, \"is odd\")\n",
        "else:\n",
        "    print(n, \"is not an integer\")"
      ],
      "execution_count": null,
      "outputs": [
        {
          "output_type": "stream",
          "name": "stdout",
          "text": [
            "5.2 is not an integer\n"
          ]
        }
      ]
    },
    {
      "cell_type": "markdown",
      "metadata": {
        "id": "8zxK2nqlhSr6"
      },
      "source": [
        "# Define a function of Fibonacci sequence"
      ]
    },
    {
      "cell_type": "code",
      "metadata": {
        "id": "GpEhskpoe9Bn",
        "colab": {
          "base_uri": "https://localhost:8080/"
        },
        "outputId": "dba8fdf4-4a84-474d-a3eb-249a651e473f"
      },
      "source": [
        "def fib(n):\n",
        "    if n == 0 or n ==1:\n",
        "        return n\n",
        "    else:\n",
        "        return fib(n-1)+fib(n-2)\n",
        "\n",
        "print(\"Result 1:\")\n",
        "print(fib(0),fib(1),fib(2),fib(3),fib(4),fib(5))\n",
        "\n",
        "print(\"Result 2:\")\n",
        "i =0\n",
        "while i < 10:\n",
        "    print(fib(i), end =\" \")\n",
        "    i+=1"
      ],
      "execution_count": null,
      "outputs": [
        {
          "output_type": "stream",
          "name": "stdout",
          "text": [
            "Result 1:\n",
            "0 1 1 2 3 5\n",
            "Result 2:\n",
            "0 1 1 2 3 5 8 13 21 34 "
          ]
        }
      ]
    }
  ]
}