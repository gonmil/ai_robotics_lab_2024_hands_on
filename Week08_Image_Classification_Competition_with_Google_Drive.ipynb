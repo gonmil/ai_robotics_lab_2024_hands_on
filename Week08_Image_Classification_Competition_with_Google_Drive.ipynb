{
  "nbformat": 4,
  "nbformat_minor": 0,
  "metadata": {
    "colab": {
      "provenance": [],
      "authorship_tag": "ABX9TyO2CC5hMfJV+Xpqhqs+xYke",
      "include_colab_link": true
    },
    "kernelspec": {
      "name": "python3",
      "display_name": "Python 3"
    },
    "language_info": {
      "name": "python"
    },
    "accelerator": "GPU"
  },
  "cells": [
    {
      "cell_type": "markdown",
      "metadata": {
        "id": "view-in-github",
        "colab_type": "text"
      },
      "source": [
        "<a href=\"https://colab.research.google.com/github/naoya1110/ai_robotics_lab_2024_hands_on/blob/main/Week08_Image_Classification_Competition_with_Google_Drive.ipynb\" target=\"_parent\"><img src=\"https://colab.research.google.com/assets/colab-badge.svg\" alt=\"Open In Colab\"/></a>"
      ]
    },
    {
      "cell_type": "markdown",
      "metadata": {
        "id": "chn-ztb-9JoV"
      },
      "source": [
        "# NCKU-NITKC AI Robotics Lab - Week 08"
      ]
    },
    {
      "cell_type": "markdown",
      "metadata": {
        "id": "vPlzxYAbJQmc"
      },
      "source": [
        "## Introduction\n",
        "Training of CNN models usually takes a lot of time. If you are using a free version of GPU runtime (T4) on Google Colab for model training, you can easily reach the usage limit.\n",
        "\n",
        "One of the solutions to deal with this issue is to leverage Google Drive during training. This notebook demonstrates how to store your dataset and trained model weights to your Google Drive, particularly useful for the image classification competition."
      ]
    },
    {
      "cell_type": "markdown",
      "source": [
        "## Setup"
      ],
      "metadata": {
        "id": "Tc9ZQ7QhKPX7"
      }
    },
    {
      "cell_type": "markdown",
      "metadata": {
        "id": "VYw3uTxyQMFq"
      },
      "source": [
        "### GPU\n",
        "\n",
        "Please make sure your runtime type is set to GPU (cuda)."
      ]
    },
    {
      "cell_type": "code",
      "metadata": {
        "id": "LlOLjP7qjakr"
      },
      "source": [
        "import torch\n",
        "\n",
        "if torch.cuda.is_available():\n",
        "    device = \"cuda\"\n",
        "else:\n",
        "    device = \"cpu\"\n",
        "\n",
        "print(device)"
      ],
      "execution_count": null,
      "outputs": []
    },
    {
      "cell_type": "markdown",
      "metadata": {
        "id": "4r6qw_6s_hyU"
      },
      "source": [
        "### General Packages\n",
        "\n",
        "Let's import some general Python packages."
      ]
    },
    {
      "cell_type": "code",
      "metadata": {
        "id": "uBE01BMv7DVI"
      },
      "source": [
        "import numpy as np\n",
        "import pandas as pd\n",
        "import matplotlib.pyplot as plt\n",
        "import seaborn as sns\n",
        "from tqdm.notebook import tqdm\n",
        "import os\n",
        "import gdown"
      ],
      "execution_count": null,
      "outputs": []
    },
    {
      "cell_type": "markdown",
      "source": [
        "### Working Directory in Your Google Drive\n",
        "\n",
        "You need to create a working directory within your Google Drive manually. You are free to name this directory as you prefer. In this notebook, we will be using a working directory named `noodles_competition`, located within your `My Drive` folder."
      ],
      "metadata": {
        "id": "PGaOGnawKoo7"
      }
    },
    {
      "cell_type": "markdown",
      "source": [
        "![image.png](data:image/png;base64,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)"
      ],
      "metadata": {
        "id": "HUDaoBmlFnqr"
      }
    },
    {
      "cell_type": "markdown",
      "source": [
        "### Mount Google Drive\n",
        "\n",
        "Now let's mount your Google Drive."
      ],
      "metadata": {
        "id": "gIonwIvnKIAo"
      }
    },
    {
      "cell_type": "code",
      "source": [
        "from google.colab import drive\n",
        "drive.mount('/content/drive')"
      ],
      "metadata": {
        "id": "WQoLRKKlFlZW"
      },
      "execution_count": null,
      "outputs": []
    },
    {
      "cell_type": "markdown",
      "source": [
        "### Access to Working Directory\n",
        "\n",
        "You can check if you have access to the working directory."
      ],
      "metadata": {
        "id": "tWgEpJqrL94U"
      }
    },
    {
      "cell_type": "code",
      "source": [
        "working_dir = \"/content/drive/MyDrive/noodles_competition\"\n",
        "\n",
        "print(f\"Can access to {working_dir}?\")\n",
        "print(os.path.exists(working_dir))"
      ],
      "metadata": {
        "id": "rsmy_9V1FsBX"
      },
      "execution_count": null,
      "outputs": []
    },
    {
      "cell_type": "markdown",
      "metadata": {
        "id": "ZX-bp6XjJSdL"
      },
      "source": [
        "## Data Preparation"
      ]
    },
    {
      "cell_type": "markdown",
      "metadata": {
        "id": "VWFrZgRIWBB2"
      },
      "source": [
        "### Download Data\n",
        "\n",
        "You can download `dataset2024.zip` to your working directory within Google Drive. This zip file will not be deleted even after you close this Google Colab session."
      ]
    },
    {
      "cell_type": "code",
      "source": [
        "dataset_zip_path = os.path.join(working_dir, \"dataset2024.zip\")\n",
        "url = \"https://drive.google.com/uc?id=1rwHm543Ugf8B3wwvGEcLkIDgAWOYnl4J\"\n",
        "\n",
        "if not os.path.exists(dataset_zip_path):\n",
        "    gdown.download(url, dataset_zip_path, quiet=False)\n",
        "    print(f\"Download completed! {dataset_zip_path}\")\n",
        "else:\n",
        "    print(f\"File already exists. {dataset_zip_path}\")"
      ],
      "metadata": {
        "id": "VoYvncNnJNJb"
      },
      "execution_count": null,
      "outputs": []
    },
    {
      "cell_type": "markdown",
      "metadata": {
        "id": "BS_F6Y0MuiUA"
      },
      "source": [
        "Then unzip `dataset2024.zip` then you will find `dataset2024` directory in the Files tab."
      ]
    },
    {
      "cell_type": "code",
      "source": [
        "! unzip $dataset_zip_path  > /dev/null 2>&1"
      ],
      "metadata": {
        "id": "wK6sn2tyF5Nt",
        "collapsed": true
      },
      "execution_count": null,
      "outputs": []
    },
    {
      "cell_type": "markdown",
      "metadata": {
        "id": "VEe8ah5pvPLR"
      },
      "source": [
        "In the `dataset2024` directory, you will find two main directories named `train` and `test`. Within the `train` directory, there are subdirectories labeled `0_spaghetti`, `1_ramen`, and `2_udon`, each containing respective images of spaghetti, ramen, and udon. Inside the `test` directory, there is a subdirectory named `unknown`, which contains spaghetti, ramen, and udon images mixed together in a random order."
      ]
    },
    {
      "cell_type": "markdown",
      "metadata": {
        "id": "82pgQW46yZxD"
      },
      "source": [
        "Let's check how many image data we have."
      ]
    },
    {
      "cell_type": "code",
      "source": [
        "for subdir in [\"train\", \"test\"]:\n",
        "    print(subdir)\n",
        "    subsubdirs = sorted(os.listdir(os.path.join(\"dataset2024\", subdir)))\n",
        "    for subsubdir in subsubdirs:\n",
        "        filenames = os.listdir(os.path.join(\"dataset2024\", subdir, subsubdir))\n",
        "        print(\"---\", subsubdir, \":\", len(filenames))\n",
        "        for filename in filenames[:5]:\n",
        "            print(\"    ---\", filename)"
      ],
      "metadata": {
        "id": "Nyu7NkM2GeuE"
      },
      "execution_count": null,
      "outputs": []
    },
    {
      "cell_type": "markdown",
      "metadata": {
        "id": "87A0sMVqwmEz"
      },
      "source": [
        "### Create Dataset\n",
        "To create PyTorch datasets with this tree-structured directory format, we can use `torchvision.datasets.ImageFolder` class."
      ]
    },
    {
      "cell_type": "code",
      "metadata": {
        "id": "DaWvCMuyXB18"
      },
      "source": [
        "from torchvision.datasets import ImageFolder\n",
        "\n",
        "train_dataset = ImageFolder(root=\"dataset2024/train\")\n",
        "test_dataset = ImageFolder(root=\"dataset2024/test\")\n",
        "\n",
        "print(\"train_dataset:\", len(train_dataset))\n",
        "print(\"test_dataset:\", len(test_dataset))"
      ],
      "execution_count": null,
      "outputs": []
    },
    {
      "cell_type": "markdown",
      "metadata": {
        "id": "NUp0E9oKIktV"
      },
      "source": [
        "Here, we are creating a dictionary to map the class names."
      ]
    },
    {
      "cell_type": "code",
      "metadata": {
        "id": "DXIZd0CyXFUn"
      },
      "source": [
        "classnames = {0:\"spaghetti\", 1:\"ramen\", 2:\"udon\"}\n",
        "classnames"
      ],
      "execution_count": null,
      "outputs": []
    },
    {
      "cell_type": "markdown",
      "source": [
        "Now we can create the dataset objects."
      ],
      "metadata": {
        "id": "LYFN6HJXIve_"
      }
    },
    {
      "cell_type": "code",
      "metadata": {
        "id": "5fgHGFOkXWqO"
      },
      "source": [
        "from torchvision.transforms import v2\n",
        "\n",
        "train_dataset = ImageFolder(root=\"dataset2024/train\",\n",
        "                            transform=v2.Compose([\n",
        "                                v2.Resize((96, 96)),\n",
        "                                v2.ToTensor()\n",
        "                                ])\n",
        "                            )\n",
        "\n",
        "test_dataset = ImageFolder(root=\"dataset2024/test\",\n",
        "                           transform=v2.Compose([\n",
        "                                v2.Resize((96, 96)),\n",
        "                                v2.ToTensor()\n",
        "                                ])\n",
        "                            )"
      ],
      "execution_count": null,
      "outputs": []
    },
    {
      "cell_type": "markdown",
      "metadata": {
        "id": "QbtVWATjWekE"
      },
      "source": [
        "### Data Splitting\n",
        "\n",
        "We split the original training dataset into new training and validation datasets."
      ]
    },
    {
      "cell_type": "markdown",
      "source": [
        "![image.png](data:image/png;base64,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)"
      ],
      "metadata": {
        "id": "mZHlM4H9s4zb"
      }
    },
    {
      "cell_type": "code",
      "metadata": {
        "id": "g2UH3rN5XdFf"
      },
      "source": [
        "from torch.utils.data import random_split\n",
        "\n",
        "n_samples = len(train_dataset)\n",
        "train_size = int(n_samples * 0.5)    # 50% will be training data\n",
        "valid_size = n_samples - train_size  # 50% will be validation data\n",
        "\n",
        "train_dataset, valid_dataset = random_split(train_dataset, [train_size, valid_size])\n",
        "\n",
        "print(\"train data\", len(train_dataset))\n",
        "print(\"validation data\", len(valid_dataset))"
      ],
      "execution_count": null,
      "outputs": []
    },
    {
      "cell_type": "markdown",
      "metadata": {
        "id": "qmaAJzuZaDTz"
      },
      "source": [
        "### DataLoader\n",
        "\n",
        "Then we create the dataloaders for the training, validation and test dataset."
      ]
    },
    {
      "cell_type": "code",
      "metadata": {
        "id": "oBhdXTsSXeze"
      },
      "source": [
        "from torch.utils.data import DataLoader\n",
        "\n",
        "train_loader = DataLoader(train_dataset, batch_size=50, shuffle=True, num_workers=2)\n",
        "valid_loader = DataLoader(valid_dataset, batch_size=50, shuffle=False, num_workers=2)\n",
        "test_loader = DataLoader(test_dataset, batch_size=50, shuffle=False, num_workers=2)"
      ],
      "execution_count": null,
      "outputs": []
    },
    {
      "cell_type": "markdown",
      "metadata": {
        "id": "QhtajLTTNmSx"
      },
      "source": [
        "## Model Building"
      ]
    },
    {
      "cell_type": "markdown",
      "metadata": {
        "id": "xrHtrmLj65gs"
      },
      "source": [
        "### Model Architecture\n",
        "\n",
        "You can use any kind of models you want."
      ]
    },
    {
      "cell_type": "code",
      "source": [
        "import torch.nn as nn\n",
        "\n",
        "# define a class named \"Model\"\n",
        "class Model(nn.Module):\n",
        "\n",
        "    # Constructor\n",
        "    def __init__(self):                 # do not change\n",
        "        super(Model, self).__init__()   # do not change\n",
        "\n",
        "        # define a network module named \"features\"\n",
        "        self.features = nn.Sequential(\n",
        "            nn.Conv2d(in_channels=3, out_channels=64, kernel_size=3, padding=1),\n",
        "            nn.ReLU(),\n",
        "            nn.MaxPool2d(kernel_size=2),\n",
        "            nn.Conv2d(in_channels=64, out_channels=64, kernel_size=3, padding=1),\n",
        "            nn.ReLU(),\n",
        "            nn.MaxPool2d(kernel_size=2),\n",
        "        )\n",
        "\n",
        "        # define a network module named \"junction\"\n",
        "        self.junction = nn.Sequential(\n",
        "            nn.AdaptiveAvgPool2d(output_size=(8, 8)),\n",
        "            nn.Flatten()\n",
        "        )\n",
        "\n",
        "        # define a network module named \"classifier\"\n",
        "        self.classifier = nn.Sequential(\n",
        "            nn.Linear(in_features=64*8*8, out_features=256),\n",
        "            nn.ReLU(),\n",
        "            nn.Linear(in_features=256, out_features=10)\n",
        "        )\n",
        "\n",
        "    # Instance method\n",
        "    def forward(self, x):   # do not change\n",
        "        x = self.features(x)\n",
        "        x = self.junction(x)\n",
        "        x = self.classifier(x)\n",
        "        return x\n",
        "\n",
        "model = Model()    # construct an instance of the Model class\n",
        "print(model)"
      ],
      "metadata": {
        "id": "UTgrgMoc5dVD"
      },
      "execution_count": null,
      "outputs": []
    },
    {
      "cell_type": "markdown",
      "metadata": {
        "id": "aAlXGXFDRsjw"
      },
      "source": [
        "## Training"
      ]
    },
    {
      "cell_type": "markdown",
      "source": [
        "### Save Model in Google Drive\n",
        "\n",
        "You can save your model weights in your working directory at any time. Please refer [the notebook on Week6](https://github.com/naoya1110/ai_robotics_lab_2024_hands_on/blob/main/Week06_Practical_Techniques_for_Training_CNN.ipynb)"
      ],
      "metadata": {
        "id": "YlpAltezPQqM"
      }
    },
    {
      "cell_type": "code",
      "source": [
        "# save the model weights\n",
        "model_path = os.path.join(working_dir, \"my_model.pth\")\n",
        "torch.save(model.state_dict(), model_path)"
      ],
      "metadata": {
        "id": "tLLYgrUJPWf6"
      },
      "execution_count": null,
      "outputs": []
    },
    {
      "cell_type": "markdown",
      "metadata": {
        "id": "MCzH5589Rn-7"
      },
      "source": [
        "### Training Loop\n",
        "\n",
        "\n",
        "\n",
        "\n",
        "\n"
      ]
    },
    {
      "cell_type": "code",
      "metadata": {
        "id": "B9ONh4giaSQD"
      },
      "source": [
        "import torch.optim as optim\n",
        "\n",
        "model = Model().to(device)                             # load model to GPU\n",
        "loss_func = nn.CrossEntropyLoss()                      # set loss function\n",
        "optimizer = optim.Adam(model.parameters(), lr=1E-3)    # set optimizer\n",
        "epochs = 10\n",
        "\n",
        "experiment_name = \"experiment1\"\n",
        "\n",
        "\n",
        "# create empty lists for saving metrics during training\n",
        "train_loss_list = []\n",
        "train_accuracy_list = []\n",
        "valid_loss_list = []\n",
        "valid_accuracy_list = []\n",
        "\n",
        "for epoch in range(epochs):\n",
        "\n",
        "    print(f\"Epoch {epoch+1}/{epochs}\")\n",
        "\n",
        "    # initialize metrics value\n",
        "    train_correct_count = 0\n",
        "    train_accuracy = 0\n",
        "    train_loss = 0\n",
        "    valid_correct_count = 0\n",
        "    valid_accuracy = 0\n",
        "    valid_loss = 0\n",
        "\n",
        "    #--- Training Phase ---#\n",
        "    model.train()    # set model to training mode\n",
        "\n",
        "    pbar = tqdm(train_loader)\n",
        "    pbar.set_description(\"Train\")\n",
        "\n",
        "    for x_batch, y_batch in pbar:      # take mini batch data from train_loader\n",
        "\n",
        "        x_batch = x_batch.to(device)     # load x_batch data on GPU\n",
        "        y_batch = y_batch.to(device)     # load y_batch data on GPU\n",
        "\n",
        "        optimizer.zero_grad()                  # reset gradients to 0\n",
        "        p_batch = model(x_batch)               # do prediction\n",
        "        loss = loss_func(p_batch, y_batch)     # measure loss\n",
        "        loss.backward()                        # calculate gradients\n",
        "        optimizer.step()                       # update model parameters\n",
        "\n",
        "        train_loss += loss.item()                                # accumulate loss value\n",
        "        p_batch_label = torch.argmax(p_batch, dim=1)             # convert p_batch vector to p_batch_label\n",
        "        train_correct_count += (p_batch_label == y_batch).sum()  # count up number of correct predictions\n",
        "\n",
        "        pbar.set_postfix({\"accuracy\":f\"{(p_batch_label == y_batch).sum()/len(x_batch):.4f}\", \"loss\": f\"{loss.item():.4f}\"})\n",
        "    #----------------------#\n",
        "\n",
        "    #--- Evaluation Phase ---#\n",
        "    with torch.no_grad():   # disable autograd for saving memory usage\n",
        "        model.eval()        # set model to evaluation mode\n",
        "\n",
        "        pbar = tqdm(valid_loader)\n",
        "        pbar.set_description(\"Valid\")\n",
        "\n",
        "        for x_batch, y_batch in pbar:   # take mini batch data from test_loader\n",
        "\n",
        "            x_batch = x_batch.to(device)     # load x_batch data on GPU\n",
        "            y_batch = y_batch.to(device)     # load y_batch data on GPU\n",
        "\n",
        "            p_batch = model(x_batch)              # do prediction\n",
        "            loss = loss_func(p_batch, y_batch)    # measure loss\n",
        "\n",
        "            valid_loss += loss.item()                                # accumulate loss value\n",
        "            p_batch_label = torch.argmax(p_batch, dim=1)            # convert p_batch vector to p_batch_label\n",
        "            valid_correct_count += (p_batch_label == y_batch).sum()  # count up number of correct predictions\n",
        "\n",
        "            pbar.set_postfix({\"accuracy\":f\"{(p_batch_label == y_batch).sum()/len(x_batch):.4f}\", \"loss\": f\"{loss.item():.4f}\"})\n",
        "    #------------------------#\n",
        "\n",
        "    train_accuracy = train_correct_count.item()/len(train_dataset)   # determine accuracy for training data\n",
        "    valid_accuracy = valid_correct_count.item()/len(valid_dataset)   # determin accuracy for test data\n",
        "    train_loss = train_loss/len(train_loader)       # determin loss for training data\n",
        "    valid_loss = valid_loss/len(valid_loader)       # determin loss for validation data\n",
        "\n",
        "    # show and store metrics\n",
        "    print(f\"Train: Accuracy={train_accuracy:.3f} Loss={train_loss:.3f}, Valid: Accuracy={valid_accuracy:.3f} Loss={valid_loss:.3f}\")\n",
        "    train_accuracy_list.append(train_accuracy)\n",
        "    train_loss_list.append(train_loss)\n",
        "    valid_accuracy_list.append(valid_accuracy)\n",
        "    valid_loss_list.append(valid_loss)\n",
        "\n",
        "    # save model weights\n",
        "    model_path = os.path.join(working_dir, f\"model_{experiment_name}_ep{epoch+1}.pth\")\n",
        "    torch.save(model.state_dict(), model_path)\n",
        "    print(f\"Model saved to {model_path}\")\n",
        "\n",
        "    print(\"---------------------\")"
      ],
      "execution_count": null,
      "outputs": []
    },
    {
      "cell_type": "markdown",
      "metadata": {
        "id": "77tsvYTj_MjF"
      },
      "source": [
        "### Learning Curves\n",
        "\n",
        "Let's visualize the accuracy and the loss curves for training and validation data."
      ]
    },
    {
      "cell_type": "code",
      "metadata": {
        "id": "r41u3qmIig-t"
      },
      "source": [
        "plt.figure(figsize=(5, 3))\n",
        "plt.rcParams[\"font.size\"]=14\n",
        "plt.plot(np.arange(epochs)+1, train_accuracy_list, label=\"train\")\n",
        "plt.plot(np.arange(epochs)+1, valid_accuracy_list, label=\"valid\")\n",
        "plt.xlabel(\"Epoch\")\n",
        "plt.ylabel(\"Accuracy\")\n",
        "plt.grid()\n",
        "plt.legend()"
      ],
      "execution_count": null,
      "outputs": []
    },
    {
      "cell_type": "code",
      "metadata": {
        "id": "gEfROle1leF7"
      },
      "source": [
        "plt.figure(figsize=(5, 3))\n",
        "plt.plot(np.arange(epochs)+1, train_loss_list, label=\"train\")\n",
        "plt.plot(np.arange(epochs)+1, valid_loss_list, label=\"valid\")\n",
        "plt.xlabel(\"Epoch\")\n",
        "plt.ylabel(\"Loss\")\n",
        "plt.grid()\n",
        "plt.legend()"
      ],
      "execution_count": null,
      "outputs": []
    },
    {
      "cell_type": "markdown",
      "metadata": {
        "id": "c3MF31ZodXBi"
      },
      "source": [
        "## Submission"
      ]
    },
    {
      "cell_type": "markdown",
      "source": [
        "### Load Your Model\n",
        "You can load the model weights from any saved checkpoints."
      ],
      "metadata": {
        "id": "4L4SmeT_QBKZ"
      }
    },
    {
      "cell_type": "code",
      "source": [
        "best_model_path = os.path.join(working_dir, f\"model_experiment1_ep10.pth\")\n",
        "\n",
        "model = Model().to(device)                           # load an initialized model\n",
        "model.load_state_dict(torch.load(best_model_path))   # load model parameters to the initialized model"
      ],
      "metadata": {
        "id": "2RV37CL5QFKd"
      },
      "execution_count": null,
      "outputs": []
    },
    {
      "cell_type": "markdown",
      "metadata": {
        "id": "J8ZFVnL7-l4_"
      },
      "source": [
        "### Make Submission File"
      ]
    },
    {
      "cell_type": "code",
      "metadata": {
        "id": "Ku9zaCDxuk05"
      },
      "source": [
        "#####################\n",
        "##  DO NOT CHANGE  ##\n",
        "#####################\n",
        "\n",
        "p_label_all = np.array([])\n",
        "\n",
        "with torch.no_grad():\n",
        "    model.eval()\n",
        "\n",
        "    for x_batch, y_batch in test_loader:\n",
        "        x_batch = x_batch.to(device)\n",
        "        y_batch = y_batch.to(device)\n",
        "        p_batch = model(x_batch)\n",
        "        p_batch_label = torch.argmax(p_batch, dim=1)\n",
        "        p_label_all = np.append(p_label_all, p_batch_label.to(\"cpu\").numpy())\n",
        "\n",
        "p_label_all = p_label_all.astype(\"uint8\")\n",
        "print(p_label_all)\n",
        "\n",
        "df_submit = pd.DataFrame()\n",
        "df_submit[\"ID\"] = np.arange(4500)\n",
        "df_submit[\"Target\"] = p_label_all\n",
        "\n",
        "submission_filepath = os.path.join(working_dir, f\"your_submission_{experiment_name}.csv\")\n",
        "df_submit.to_csv(submission_filepath, index = False)\n",
        "\n",
        "df_submit"
      ],
      "execution_count": null,
      "outputs": []
    },
    {
      "cell_type": "markdown",
      "metadata": {
        "id": "wke7cdi2fVBZ"
      },
      "source": [
        "## Conclusion"
      ]
    },
    {
      "cell_type": "markdown",
      "metadata": {
        "id": "bBKeg1o-fWd5"
      },
      "source": [
        "That's it for this week. Try your best for the image classification competition!"
      ]
    }
  ]
}